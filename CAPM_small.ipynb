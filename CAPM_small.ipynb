{
  "nbformat": 4,
  "nbformat_minor": 0,
  "metadata": {
    "colab": {
      "provenance": []
    },
    "kernelspec": {
      "name": "python3",
      "display_name": "Python 3"
    },
    "language_info": {
      "name": "python"
    }
  },
  "cells": [
    {
      "cell_type": "code",
      "metadata": {
        "id": "CxDvPVojhpql"
      },
      "source": [
        "import numpy as np\n",
        "import pandas_datareader as pdr\n",
        "import datetime as dt\n",
        "import pandas as pd"
      ],
      "execution_count": null,
      "outputs": []
    },
    {
      "cell_type": "code",
      "metadata": {
        "id": "eDejBQCvhwUL",
        "colab": {
          "base_uri": "https://localhost:8080/"
        },
        "outputId": "15d5ba8a-4e66-47cf-c407-f65d88acced7"
      },
      "source": [
        "!pip install yfinance\n",
        "!pip install matplotlib\n",
        "# Import yfinance and matplotlib\n",
        "import yfinance as yf  "
      ],
      "execution_count": null,
      "outputs": [
        {
          "output_type": "stream",
          "name": "stdout",
          "text": [
            "Collecting yfinance\n",
            "  Downloading yfinance-0.1.66-py2.py3-none-any.whl (25 kB)\n",
            "Collecting lxml>=4.5.1\n",
            "  Downloading lxml-4.6.4-cp37-cp37m-manylinux_2_17_x86_64.manylinux2014_x86_64.manylinux_2_24_x86_64.whl (6.3 MB)\n",
            "\u001b[K     |████████████████████████████████| 6.3 MB 7.3 MB/s \n",
            "\u001b[?25hRequirement already satisfied: multitasking>=0.0.7 in /usr/local/lib/python3.7/dist-packages (from yfinance) (0.0.9)\n",
            "Requirement already satisfied: numpy>=1.15 in /usr/local/lib/python3.7/dist-packages (from yfinance) (1.19.5)\n",
            "Requirement already satisfied: pandas>=0.24 in /usr/local/lib/python3.7/dist-packages (from yfinance) (1.1.5)\n",
            "Requirement already satisfied: requests>=2.20 in /usr/local/lib/python3.7/dist-packages (from yfinance) (2.23.0)\n",
            "Requirement already satisfied: python-dateutil>=2.7.3 in /usr/local/lib/python3.7/dist-packages (from pandas>=0.24->yfinance) (2.8.2)\n",
            "Requirement already satisfied: pytz>=2017.2 in /usr/local/lib/python3.7/dist-packages (from pandas>=0.24->yfinance) (2018.9)\n",
            "Requirement already satisfied: six>=1.5 in /usr/local/lib/python3.7/dist-packages (from python-dateutil>=2.7.3->pandas>=0.24->yfinance) (1.15.0)\n",
            "Requirement already satisfied: chardet<4,>=3.0.2 in /usr/local/lib/python3.7/dist-packages (from requests>=2.20->yfinance) (3.0.4)\n",
            "Requirement already satisfied: urllib3!=1.25.0,!=1.25.1,<1.26,>=1.21.1 in /usr/local/lib/python3.7/dist-packages (from requests>=2.20->yfinance) (1.24.3)\n",
            "Requirement already satisfied: certifi>=2017.4.17 in /usr/local/lib/python3.7/dist-packages (from requests>=2.20->yfinance) (2021.10.8)\n",
            "Requirement already satisfied: idna<3,>=2.5 in /usr/local/lib/python3.7/dist-packages (from requests>=2.20->yfinance) (2.10)\n",
            "Installing collected packages: lxml, yfinance\n",
            "  Attempting uninstall: lxml\n",
            "    Found existing installation: lxml 4.2.6\n",
            "    Uninstalling lxml-4.2.6:\n",
            "      Successfully uninstalled lxml-4.2.6\n",
            "Successfully installed lxml-4.6.4 yfinance-0.1.66\n",
            "Requirement already satisfied: matplotlib in /usr/local/lib/python3.7/dist-packages (3.2.2)\n",
            "Requirement already satisfied: kiwisolver>=1.0.1 in /usr/local/lib/python3.7/dist-packages (from matplotlib) (1.3.2)\n",
            "Requirement already satisfied: numpy>=1.11 in /usr/local/lib/python3.7/dist-packages (from matplotlib) (1.19.5)\n",
            "Requirement already satisfied: python-dateutil>=2.1 in /usr/local/lib/python3.7/dist-packages (from matplotlib) (2.8.2)\n",
            "Requirement already satisfied: pyparsing!=2.0.4,!=2.1.2,!=2.1.6,>=2.0.1 in /usr/local/lib/python3.7/dist-packages (from matplotlib) (2.4.7)\n",
            "Requirement already satisfied: cycler>=0.10 in /usr/local/lib/python3.7/dist-packages (from matplotlib) (0.11.0)\n",
            "Requirement already satisfied: six>=1.5 in /usr/local/lib/python3.7/dist-packages (from python-dateutil>=2.1->matplotlib) (1.15.0)\n"
          ]
        }
      ]
    },
    {
      "cell_type": "code",
      "metadata": {
        "id": "f6E0zrDvhyEj",
        "colab": {
          "base_uri": "https://localhost:8080/"
        },
        "outputId": "625e7399-2102-4f5b-a747-8f592939d6b9"
      },
      "source": [
        "!pip install fix_yahoo_finance\n"
      ],
      "execution_count": null,
      "outputs": [
        {
          "output_type": "stream",
          "name": "stdout",
          "text": [
            "Requirement already satisfied: fix_yahoo_finance in /usr/local/lib/python3.7/dist-packages (0.0.22)\n",
            "Requirement already satisfied: numpy in /usr/local/lib/python3.7/dist-packages (from fix_yahoo_finance) (1.19.5)\n",
            "Requirement already satisfied: multitasking in /usr/local/lib/python3.7/dist-packages (from fix_yahoo_finance) (0.0.9)\n",
            "Requirement already satisfied: requests in /usr/local/lib/python3.7/dist-packages (from fix_yahoo_finance) (2.23.0)\n",
            "Requirement already satisfied: pandas in /usr/local/lib/python3.7/dist-packages (from fix_yahoo_finance) (1.1.5)\n",
            "Requirement already satisfied: pytz>=2017.2 in /usr/local/lib/python3.7/dist-packages (from pandas->fix_yahoo_finance) (2018.9)\n",
            "Requirement already satisfied: python-dateutil>=2.7.3 in /usr/local/lib/python3.7/dist-packages (from pandas->fix_yahoo_finance) (2.8.2)\n",
            "Requirement already satisfied: six>=1.5 in /usr/local/lib/python3.7/dist-packages (from python-dateutil>=2.7.3->pandas->fix_yahoo_finance) (1.15.0)\n",
            "Requirement already satisfied: certifi>=2017.4.17 in /usr/local/lib/python3.7/dist-packages (from requests->fix_yahoo_finance) (2021.10.8)\n",
            "Requirement already satisfied: urllib3!=1.25.0,!=1.25.1,<1.26,>=1.21.1 in /usr/local/lib/python3.7/dist-packages (from requests->fix_yahoo_finance) (1.24.3)\n",
            "Requirement already satisfied: idna<3,>=2.5 in /usr/local/lib/python3.7/dist-packages (from requests->fix_yahoo_finance) (2.10)\n",
            "Requirement already satisfied: chardet<4,>=3.0.2 in /usr/local/lib/python3.7/dist-packages (from requests->fix_yahoo_finance) (3.0.4)\n"
          ]
        }
      ]
    },
    {
      "cell_type": "code",
      "metadata": {
        "id": "2giwkre9hzxR",
        "colab": {
          "base_uri": "https://localhost:8080/"
        },
        "outputId": "f8477153-d633-449f-dd59-78fe59381d5f"
      },
      "source": [
        "tickers = ['HCL-INSYS.BO', 'QUICKHEAL.BO', 'PFIZER.BO', 'THYROCARE.BO', 'GREENPLY.BO', 'BATAINDIA.BO', 'INDIANB.BO', 'IIFL.BO','^BSESN']\n",
        "start = dt.datetime(2019, 1, 1)\n",
        "end = dt.datetime(2021, 8, 6)\n",
        "\n",
        "data = yf.download(tickers,'2019-01-01','2021-08-06')\n",
        "#data = pdr.get_data_yahoo(tickers, start, end, interval=\"m\")"
      ],
      "execution_count": null,
      "outputs": [
        {
          "output_type": "stream",
          "name": "stdout",
          "text": [
            "[*********************100%***********************]  9 of 9 completed\n"
          ]
        }
      ]
    },
    {
      "cell_type": "code",
      "metadata": {
        "id": "XPS8vQeYh1qw"
      },
      "source": [
        "data = data['Adj Close']"
      ],
      "execution_count": null,
      "outputs": []
    },
    {
      "cell_type": "code",
      "metadata": {
        "id": "WSOTN09-h3fE",
        "colab": {
          "base_uri": "https://localhost:8080/",
          "height": 455
        },
        "outputId": "245f0018-530a-44ce-8c35-ade65df0cfc9"
      },
      "source": [
        "log_returns = np.log(data/data.shift())\n",
        "log_returns"
      ],
      "execution_count": null,
      "outputs": [
        {
          "output_type": "execute_result",
          "data": {
            "text/html": [
              "<div>\n",
              "<style scoped>\n",
              "    .dataframe tbody tr th:only-of-type {\n",
              "        vertical-align: middle;\n",
              "    }\n",
              "\n",
              "    .dataframe tbody tr th {\n",
              "        vertical-align: top;\n",
              "    }\n",
              "\n",
              "    .dataframe thead th {\n",
              "        text-align: right;\n",
              "    }\n",
              "</style>\n",
              "<table border=\"1\" class=\"dataframe\">\n",
              "  <thead>\n",
              "    <tr style=\"text-align: right;\">\n",
              "      <th></th>\n",
              "      <th>BATAINDIA.BO</th>\n",
              "      <th>GREENPLY.BO</th>\n",
              "      <th>HCL-INSYS.BO</th>\n",
              "      <th>IIFL.BO</th>\n",
              "      <th>INDIANB.BO</th>\n",
              "      <th>PFIZER.BO</th>\n",
              "      <th>QUICKHEAL.BO</th>\n",
              "      <th>THYROCARE.BO</th>\n",
              "      <th>^BSESN</th>\n",
              "    </tr>\n",
              "    <tr>\n",
              "      <th>Date</th>\n",
              "      <th></th>\n",
              "      <th></th>\n",
              "      <th></th>\n",
              "      <th></th>\n",
              "      <th></th>\n",
              "      <th></th>\n",
              "      <th></th>\n",
              "      <th></th>\n",
              "      <th></th>\n",
              "    </tr>\n",
              "  </thead>\n",
              "  <tbody>\n",
              "    <tr>\n",
              "      <th>2019-01-01</th>\n",
              "      <td>NaN</td>\n",
              "      <td>NaN</td>\n",
              "      <td>NaN</td>\n",
              "      <td>NaN</td>\n",
              "      <td>NaN</td>\n",
              "      <td>NaN</td>\n",
              "      <td>NaN</td>\n",
              "      <td>NaN</td>\n",
              "      <td>NaN</td>\n",
              "    </tr>\n",
              "    <tr>\n",
              "      <th>2019-01-02</th>\n",
              "      <td>-0.012631</td>\n",
              "      <td>-0.005428</td>\n",
              "      <td>0.001963</td>\n",
              "      <td>0.000600</td>\n",
              "      <td>-0.023332</td>\n",
              "      <td>-0.015051</td>\n",
              "      <td>-0.006626</td>\n",
              "      <td>0.010287</td>\n",
              "      <td>NaN</td>\n",
              "    </tr>\n",
              "    <tr>\n",
              "      <th>2019-01-03</th>\n",
              "      <td>-0.001753</td>\n",
              "      <td>-0.002179</td>\n",
              "      <td>-0.003929</td>\n",
              "      <td>0.010737</td>\n",
              "      <td>-0.001629</td>\n",
              "      <td>-0.015587</td>\n",
              "      <td>-0.007148</td>\n",
              "      <td>0.009817</td>\n",
              "      <td>-0.010582</td>\n",
              "    </tr>\n",
              "    <tr>\n",
              "      <th>2019-01-04</th>\n",
              "      <td>0.004355</td>\n",
              "      <td>-0.007666</td>\n",
              "      <td>-0.021891</td>\n",
              "      <td>-0.008341</td>\n",
              "      <td>0.019179</td>\n",
              "      <td>-0.002432</td>\n",
              "      <td>-0.010094</td>\n",
              "      <td>-0.004667</td>\n",
              "      <td>0.005095</td>\n",
              "    </tr>\n",
              "    <tr>\n",
              "      <th>2019-01-07</th>\n",
              "      <td>0.007409</td>\n",
              "      <td>-0.002936</td>\n",
              "      <td>0.006018</td>\n",
              "      <td>-0.014361</td>\n",
              "      <td>-0.013083</td>\n",
              "      <td>-0.008296</td>\n",
              "      <td>0.000000</td>\n",
              "      <td>-0.005334</td>\n",
              "      <td>0.004335</td>\n",
              "    </tr>\n",
              "    <tr>\n",
              "      <th>...</th>\n",
              "      <td>...</td>\n",
              "      <td>...</td>\n",
              "      <td>...</td>\n",
              "      <td>...</td>\n",
              "      <td>...</td>\n",
              "      <td>...</td>\n",
              "      <td>...</td>\n",
              "      <td>...</td>\n",
              "      <td>...</td>\n",
              "    </tr>\n",
              "    <tr>\n",
              "      <th>2021-07-30</th>\n",
              "      <td>0.003806</td>\n",
              "      <td>0.008399</td>\n",
              "      <td>0.009600</td>\n",
              "      <td>-0.007187</td>\n",
              "      <td>0.000360</td>\n",
              "      <td>0.007573</td>\n",
              "      <td>0.022005</td>\n",
              "      <td>-0.001071</td>\n",
              "      <td>-0.001259</td>\n",
              "    </tr>\n",
              "    <tr>\n",
              "      <th>2021-08-02</th>\n",
              "      <td>0.039460</td>\n",
              "      <td>0.063787</td>\n",
              "      <td>-0.019293</td>\n",
              "      <td>-0.017864</td>\n",
              "      <td>0.002517</td>\n",
              "      <td>0.004129</td>\n",
              "      <td>0.003949</td>\n",
              "      <td>0.014400</td>\n",
              "      <td>0.006894</td>\n",
              "    </tr>\n",
              "    <tr>\n",
              "      <th>2021-08-03</th>\n",
              "      <td>0.002136</td>\n",
              "      <td>0.023987</td>\n",
              "      <td>0.006473</td>\n",
              "      <td>0.006985</td>\n",
              "      <td>0.018147</td>\n",
              "      <td>0.005207</td>\n",
              "      <td>0.002460</td>\n",
              "      <td>0.006767</td>\n",
              "      <td>0.016348</td>\n",
              "    </tr>\n",
              "    <tr>\n",
              "      <th>2021-08-04</th>\n",
              "      <td>-0.018495</td>\n",
              "      <td>-0.027918</td>\n",
              "      <td>-0.036129</td>\n",
              "      <td>-0.025343</td>\n",
              "      <td>-0.010991</td>\n",
              "      <td>-0.005537</td>\n",
              "      <td>0.002945</td>\n",
              "      <td>0.008507</td>\n",
              "      <td>0.010101</td>\n",
              "    </tr>\n",
              "    <tr>\n",
              "      <th>2021-08-05</th>\n",
              "      <td>0.001909</td>\n",
              "      <td>-0.051527</td>\n",
              "      <td>-0.037483</td>\n",
              "      <td>-0.029498</td>\n",
              "      <td>-0.035932</td>\n",
              "      <td>-0.005363</td>\n",
              "      <td>-0.016469</td>\n",
              "      <td>0.003782</td>\n",
              "      <td>0.002261</td>\n",
              "    </tr>\n",
              "  </tbody>\n",
              "</table>\n",
              "<p>639 rows × 9 columns</p>\n",
              "</div>"
            ],
            "text/plain": [
              "            BATAINDIA.BO  GREENPLY.BO  ...  THYROCARE.BO    ^BSESN\n",
              "Date                                   ...                        \n",
              "2019-01-01           NaN          NaN  ...           NaN       NaN\n",
              "2019-01-02     -0.012631    -0.005428  ...      0.010287       NaN\n",
              "2019-01-03     -0.001753    -0.002179  ...      0.009817 -0.010582\n",
              "2019-01-04      0.004355    -0.007666  ...     -0.004667  0.005095\n",
              "2019-01-07      0.007409    -0.002936  ...     -0.005334  0.004335\n",
              "...                  ...          ...  ...           ...       ...\n",
              "2021-07-30      0.003806     0.008399  ...     -0.001071 -0.001259\n",
              "2021-08-02      0.039460     0.063787  ...      0.014400  0.006894\n",
              "2021-08-03      0.002136     0.023987  ...      0.006767  0.016348\n",
              "2021-08-04     -0.018495    -0.027918  ...      0.008507  0.010101\n",
              "2021-08-05      0.001909    -0.051527  ...      0.003782  0.002261\n",
              "\n",
              "[639 rows x 9 columns]"
            ]
          },
          "metadata": {},
          "execution_count": 6
        }
      ]
    },
    {
      "cell_type": "code",
      "metadata": {
        "id": "NL97lrT8h5rW"
      },
      "source": [
        "cov = log_returns.cov()"
      ],
      "execution_count": null,
      "outputs": []
    },
    {
      "cell_type": "code",
      "metadata": {
        "id": "56nYKeKph7nF",
        "colab": {
          "base_uri": "https://localhost:8080/"
        },
        "outputId": "35bacfb6-18bb-4b7a-cbe0-8aad3a0dcaf3"
      },
      "source": [
        "#BSE = ['^BSESN']\n",
        "#bse = yf.download(BSE,'2019-01-01','2021-08-06')\n",
        "\n",
        "#var = log_returns.var()\n",
        "var = log_returns['^BSESN'].var()\n",
        "var"
      ],
      "execution_count": null,
      "outputs": [
        {
          "output_type": "execute_result",
          "data": {
            "text/plain": [
              "0.00022183341948203952"
            ]
          },
          "metadata": {},
          "execution_count": 8
        }
      ]
    },
    {
      "cell_type": "code",
      "metadata": {
        "id": "3PdajKkqh9g2",
        "colab": {
          "base_uri": "https://localhost:8080/"
        },
        "outputId": "6ac74a14-3709-4d16-a62d-f41f509188e2"
      },
      "source": [
        "beta = cov.loc['IIFL.BO', '^BSESN']/var\n",
        "beta"
      ],
      "execution_count": null,
      "outputs": [
        {
          "output_type": "execute_result",
          "data": {
            "text/plain": [
              "0.8003730672117753"
            ]
          },
          "metadata": {},
          "execution_count": 10
        }
      ]
    },
    {
      "cell_type": "code",
      "metadata": {
        "id": "3ErtHyjIh_iE",
        "colab": {
          "base_uri": "https://localhost:8080/"
        },
        "outputId": "e66f5e06-c669-4444-b106-b1ece6f15f57"
      },
      "source": [
        "risk_free_return = 0.0628\n",
        "market_return = .1575\n",
        "\n",
        "expected_return = risk_free_return + beta*(market_return - risk_free_return)\n",
        "expected_return"
      ],
      "execution_count": null,
      "outputs": [
        {
          "output_type": "execute_result",
          "data": {
            "text/plain": [
              "0.13859532946495512"
            ]
          },
          "metadata": {},
          "execution_count": 11
        }
      ]
    },
    {
      "cell_type": "code",
      "metadata": {
        "id": "sQ1ncA2QiBPr",
        "colab": {
          "base_uri": "https://localhost:8080/"
        },
        "outputId": "3562bcda-9e02-431e-b47f-37483411b0e9"
      },
      "source": [
        "beta*market_return #maximum "
      ],
      "execution_count": null,
      "outputs": [
        {
          "output_type": "execute_result",
          "data": {
            "text/plain": [
              "0.1260587580858546"
            ]
          },
          "metadata": {},
          "execution_count": 12
        }
      ]
    },
    {
      "cell_type": "code",
      "metadata": {
        "id": "4hggM0NviE4Y",
        "colab": {
          "base_uri": "https://localhost:8080/"
        },
        "outputId": "4e2283fc-ac11-4735-c51d-6678093566ba"
      },
      "source": [
        "market_return = risk_free_return + beta*(market_return - risk_free_return)\n",
        "market_return"
      ],
      "execution_count": null,
      "outputs": [
        {
          "output_type": "execute_result",
          "data": {
            "text/plain": [
              "0.13859532946495512"
            ]
          },
          "metadata": {},
          "execution_count": 13
        }
      ]
    },
    {
      "cell_type": "code",
      "metadata": {
        "colab": {
          "base_uri": "https://localhost:8080/"
        },
        "id": "ti0QqOiV_thT",
        "outputId": "c5b5389e-1b0f-46d5-fb5b-74364843b19c"
      },
      "source": [
        "beta = cov.loc['^BSESN']/var\n",
        "beta"
      ],
      "execution_count": null,
      "outputs": [
        {
          "output_type": "execute_result",
          "data": {
            "text/plain": [
              "BATAINDIA.BO    0.751488\n",
              "GREENPLY.BO     0.960921\n",
              "HCL-INSYS.BO    0.570112\n",
              "IIFL.BO         0.800373\n",
              "INDIANB.BO      1.027858\n",
              "PFIZER.BO       0.363308\n",
              "QUICKHEAL.BO    0.998806\n",
              "THYROCARE.BO    0.504782\n",
              "^BSESN          1.000000\n",
              "Name: ^BSESN, dtype: float64"
            ]
          },
          "metadata": {},
          "execution_count": 14
        }
      ]
    },
    {
      "cell_type": "code",
      "metadata": {
        "id": "X3gj8XqyAMkx",
        "colab": {
          "base_uri": "https://localhost:8080/"
        },
        "outputId": "e4d663af-8892-4091-df94-f088794aa45a"
      },
      "source": [
        "market_return = risk_free_return + beta*(market_return - risk_free_return)\n",
        "market_return"
      ],
      "execution_count": null,
      "outputs": [
        {
          "output_type": "execute_result",
          "data": {
            "text/plain": [
              "BATAINDIA.BO    0.119759\n",
              "GREENPLY.BO     0.135633\n",
              "HCL-INSYS.BO    0.106012\n",
              "IIFL.BO         0.123465\n",
              "INDIANB.BO      0.140707\n",
              "PFIZER.BO       0.090337\n",
              "QUICKHEAL.BO    0.138505\n",
              "THYROCARE.BO    0.101060\n",
              "^BSESN          0.138595\n",
              "Name: ^BSESN, dtype: float64"
            ]
          },
          "metadata": {},
          "execution_count": 15
        }
      ]
    }
  ]
}
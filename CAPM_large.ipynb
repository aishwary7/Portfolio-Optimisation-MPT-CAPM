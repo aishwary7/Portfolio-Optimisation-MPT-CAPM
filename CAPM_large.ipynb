{
  "nbformat": 4,
  "nbformat_minor": 0,
  "metadata": {
    "colab": {
      "provenance": [],
      "collapsed_sections": []
    },
    "kernelspec": {
      "name": "python3",
      "display_name": "Python 3"
    },
    "language_info": {
      "name": "python"
    }
  },
  "cells": [
    {
      "cell_type": "code",
      "metadata": {
        "id": "cx6Vu9F3kz27"
      },
      "source": [
        "import numpy as np\n",
        "import pandas_datareader as pdr\n",
        "import datetime as dt\n",
        "import pandas as pd"
      ],
      "execution_count": null,
      "outputs": []
    },
    {
      "cell_type": "code",
      "metadata": {
        "id": "2g0Ub1g3HfwT",
        "colab": {
          "base_uri": "https://localhost:8080/"
        },
        "outputId": "2540cf4f-b94c-413a-9336-0c3d706df0cf"
      },
      "source": [
        "!pip install yfinance\n",
        "!pip install matplotlib\n",
        "import yfinance as yf  "
      ],
      "execution_count": null,
      "outputs": [
        {
          "output_type": "stream",
          "name": "stdout",
          "text": [
            "Collecting yfinance\n",
            "  Downloading yfinance-0.1.63.tar.gz (26 kB)\n",
            "Requirement already satisfied: pandas>=0.24 in /usr/local/lib/python3.7/dist-packages (from yfinance) (1.1.5)\n",
            "Requirement already satisfied: numpy>=1.15 in /usr/local/lib/python3.7/dist-packages (from yfinance) (1.19.5)\n",
            "Requirement already satisfied: requests>=2.20 in /usr/local/lib/python3.7/dist-packages (from yfinance) (2.23.0)\n",
            "Requirement already satisfied: multitasking>=0.0.7 in /usr/local/lib/python3.7/dist-packages (from yfinance) (0.0.9)\n",
            "Collecting lxml>=4.5.1\n",
            "  Downloading lxml-4.6.3-cp37-cp37m-manylinux2014_x86_64.whl (6.3 MB)\n",
            "\u001b[K     |████████████████████████████████| 6.3 MB 29.7 MB/s \n",
            "\u001b[?25hRequirement already satisfied: pytz>=2017.2 in /usr/local/lib/python3.7/dist-packages (from pandas>=0.24->yfinance) (2018.9)\n",
            "Requirement already satisfied: python-dateutil>=2.7.3 in /usr/local/lib/python3.7/dist-packages (from pandas>=0.24->yfinance) (2.8.2)\n",
            "Requirement already satisfied: six>=1.5 in /usr/local/lib/python3.7/dist-packages (from python-dateutil>=2.7.3->pandas>=0.24->yfinance) (1.15.0)\n",
            "Requirement already satisfied: urllib3!=1.25.0,!=1.25.1,<1.26,>=1.21.1 in /usr/local/lib/python3.7/dist-packages (from requests>=2.20->yfinance) (1.24.3)\n",
            "Requirement already satisfied: certifi>=2017.4.17 in /usr/local/lib/python3.7/dist-packages (from requests>=2.20->yfinance) (2021.5.30)\n",
            "Requirement already satisfied: idna<3,>=2.5 in /usr/local/lib/python3.7/dist-packages (from requests>=2.20->yfinance) (2.10)\n",
            "Requirement already satisfied: chardet<4,>=3.0.2 in /usr/local/lib/python3.7/dist-packages (from requests>=2.20->yfinance) (3.0.4)\n",
            "Building wheels for collected packages: yfinance\n",
            "  Building wheel for yfinance (setup.py) ... \u001b[?25l\u001b[?25hdone\n",
            "  Created wheel for yfinance: filename=yfinance-0.1.63-py2.py3-none-any.whl size=23918 sha256=3d6a3fe9216b50af30d32295ef7a69624b22867ae5a71d18821697a608cb55ce\n",
            "  Stored in directory: /root/.cache/pip/wheels/fe/87/8b/7ec24486e001d3926537f5f7801f57a74d181be25b11157983\n",
            "Successfully built yfinance\n",
            "Installing collected packages: lxml, yfinance\n",
            "  Attempting uninstall: lxml\n",
            "    Found existing installation: lxml 4.2.6\n",
            "    Uninstalling lxml-4.2.6:\n",
            "      Successfully uninstalled lxml-4.2.6\n",
            "Successfully installed lxml-4.6.3 yfinance-0.1.63\n",
            "Requirement already satisfied: matplotlib in /usr/local/lib/python3.7/dist-packages (3.2.2)\n",
            "Requirement already satisfied: numpy>=1.11 in /usr/local/lib/python3.7/dist-packages (from matplotlib) (1.19.5)\n",
            "Requirement already satisfied: cycler>=0.10 in /usr/local/lib/python3.7/dist-packages (from matplotlib) (0.10.0)\n",
            "Requirement already satisfied: kiwisolver>=1.0.1 in /usr/local/lib/python3.7/dist-packages (from matplotlib) (1.3.2)\n",
            "Requirement already satisfied: pyparsing!=2.0.4,!=2.1.2,!=2.1.6,>=2.0.1 in /usr/local/lib/python3.7/dist-packages (from matplotlib) (2.4.7)\n",
            "Requirement already satisfied: python-dateutil>=2.1 in /usr/local/lib/python3.7/dist-packages (from matplotlib) (2.8.2)\n",
            "Requirement already satisfied: six in /usr/local/lib/python3.7/dist-packages (from cycler>=0.10->matplotlib) (1.15.0)\n"
          ]
        }
      ]
    },
    {
      "cell_type": "code",
      "metadata": {
        "colab": {
          "base_uri": "https://localhost:8080/"
        },
        "id": "FdQ1TF04L9jR",
        "outputId": "df59e733-764c-4b24-dc7a-2ab6c5efd1e3"
      },
      "source": [
        "!pip install fix_yahoo_finance"
      ],
      "execution_count": null,
      "outputs": [
        {
          "output_type": "stream",
          "name": "stdout",
          "text": [
            "Requirement already satisfied: fix_yahoo_finance in /usr/local/lib/python3.7/dist-packages (0.0.22)\n",
            "Requirement already satisfied: multitasking in /usr/local/lib/python3.7/dist-packages (from fix_yahoo_finance) (0.0.9)\n",
            "Requirement already satisfied: numpy in /usr/local/lib/python3.7/dist-packages (from fix_yahoo_finance) (1.19.5)\n",
            "Requirement already satisfied: pandas in /usr/local/lib/python3.7/dist-packages (from fix_yahoo_finance) (1.1.5)\n",
            "Requirement already satisfied: requests in /usr/local/lib/python3.7/dist-packages (from fix_yahoo_finance) (2.23.0)\n",
            "Requirement already satisfied: python-dateutil>=2.7.3 in /usr/local/lib/python3.7/dist-packages (from pandas->fix_yahoo_finance) (2.8.2)\n",
            "Requirement already satisfied: pytz>=2017.2 in /usr/local/lib/python3.7/dist-packages (from pandas->fix_yahoo_finance) (2018.9)\n",
            "Requirement already satisfied: six>=1.5 in /usr/local/lib/python3.7/dist-packages (from python-dateutil>=2.7.3->pandas->fix_yahoo_finance) (1.15.0)\n",
            "Requirement already satisfied: urllib3!=1.25.0,!=1.25.1,<1.26,>=1.21.1 in /usr/local/lib/python3.7/dist-packages (from requests->fix_yahoo_finance) (1.24.3)\n",
            "Requirement already satisfied: chardet<4,>=3.0.2 in /usr/local/lib/python3.7/dist-packages (from requests->fix_yahoo_finance) (3.0.4)\n",
            "Requirement already satisfied: certifi>=2017.4.17 in /usr/local/lib/python3.7/dist-packages (from requests->fix_yahoo_finance) (2021.5.30)\n",
            "Requirement already satisfied: idna<3,>=2.5 in /usr/local/lib/python3.7/dist-packages (from requests->fix_yahoo_finance) (2.10)\n"
          ]
        }
      ]
    },
    {
      "cell_type": "code",
      "metadata": {
        "id": "C-mcxLTzlUG9",
        "colab": {
          "base_uri": "https://localhost:8080/"
        },
        "outputId": "9c00311f-70c1-4af1-b8ee-b4b89c226f6a"
      },
      "source": [
        "tickers = ['TCS.BO', 'INFY.BO', 'SUNPHARMA.BO', 'DRREDDY.BO', 'HINDUNILVR.BO', 'ITC.BO', 'HDFCBANK.BO', 'AXISBANK.BO','^BSESN']\n",
        "start = dt.datetime(2019, 1, 1)\n",
        "end = dt.datetime(2021, 8, 6)\n",
        "\n",
        "data = yf.download(tickers,'2019-01-01','2021-08-06')\n"
      ],
      "execution_count": null,
      "outputs": [
        {
          "output_type": "stream",
          "name": "stdout",
          "text": [
            "[*********************100%***********************]  9 of 9 completed\n"
          ]
        }
      ]
    },
    {
      "cell_type": "code",
      "metadata": {
        "id": "gXNJT1iIlfo_"
      },
      "source": [
        "data = data['Adj Close']"
      ],
      "execution_count": null,
      "outputs": []
    },
    {
      "cell_type": "code",
      "metadata": {
        "id": "IgykSAJzliOs",
        "colab": {
          "base_uri": "https://localhost:8080/",
          "height": 447
        },
        "outputId": "40ae7298-ced7-42ea-a0cf-e431faae5b07"
      },
      "source": [
        "log_returns = np.log(data/data.shift())\n",
        "log_returns"
      ],
      "execution_count": null,
      "outputs": [
        {
          "output_type": "execute_result",
          "data": {
            "text/html": [
              "<div>\n",
              "<style scoped>\n",
              "    .dataframe tbody tr th:only-of-type {\n",
              "        vertical-align: middle;\n",
              "    }\n",
              "\n",
              "    .dataframe tbody tr th {\n",
              "        vertical-align: top;\n",
              "    }\n",
              "\n",
              "    .dataframe thead th {\n",
              "        text-align: right;\n",
              "    }\n",
              "</style>\n",
              "<table border=\"1\" class=\"dataframe\">\n",
              "  <thead>\n",
              "    <tr style=\"text-align: right;\">\n",
              "      <th></th>\n",
              "      <th>AXISBANK.BO</th>\n",
              "      <th>DRREDDY.BO</th>\n",
              "      <th>HDFCBANK.BO</th>\n",
              "      <th>HINDUNILVR.BO</th>\n",
              "      <th>INFY.BO</th>\n",
              "      <th>ITC.BO</th>\n",
              "      <th>SUNPHARMA.BO</th>\n",
              "      <th>TCS.BO</th>\n",
              "      <th>^BSESN</th>\n",
              "    </tr>\n",
              "    <tr>\n",
              "      <th>Date</th>\n",
              "      <th></th>\n",
              "      <th></th>\n",
              "      <th></th>\n",
              "      <th></th>\n",
              "      <th></th>\n",
              "      <th></th>\n",
              "      <th></th>\n",
              "      <th></th>\n",
              "      <th></th>\n",
              "    </tr>\n",
              "  </thead>\n",
              "  <tbody>\n",
              "    <tr>\n",
              "      <th>2019-01-01</th>\n",
              "      <td>NaN</td>\n",
              "      <td>NaN</td>\n",
              "      <td>NaN</td>\n",
              "      <td>NaN</td>\n",
              "      <td>NaN</td>\n",
              "      <td>NaN</td>\n",
              "      <td>NaN</td>\n",
              "      <td>NaN</td>\n",
              "      <td>NaN</td>\n",
              "    </tr>\n",
              "    <tr>\n",
              "      <th>2019-01-02</th>\n",
              "      <td>-0.013800</td>\n",
              "      <td>-0.003914</td>\n",
              "      <td>-0.010062</td>\n",
              "      <td>-0.010649</td>\n",
              "      <td>0.006972</td>\n",
              "      <td>-0.008343</td>\n",
              "      <td>0.016488</td>\n",
              "      <td>0.010875</td>\n",
              "      <td>NaN</td>\n",
              "    </tr>\n",
              "    <tr>\n",
              "      <th>2019-01-03</th>\n",
              "      <td>-0.017851</td>\n",
              "      <td>-0.009679</td>\n",
              "      <td>-0.006465</td>\n",
              "      <td>0.001876</td>\n",
              "      <td>-0.002618</td>\n",
              "      <td>-0.005720</td>\n",
              "      <td>-0.011306</td>\n",
              "      <td>-0.013981</td>\n",
              "      <td>-0.010582</td>\n",
              "    </tr>\n",
              "    <tr>\n",
              "      <th>2019-01-04</th>\n",
              "      <td>0.019385</td>\n",
              "      <td>0.010083</td>\n",
              "      <td>0.002600</td>\n",
              "      <td>-0.003980</td>\n",
              "      <td>-0.010239</td>\n",
              "      <td>0.006611</td>\n",
              "      <td>-0.005875</td>\n",
              "      <td>-0.011935</td>\n",
              "      <td>0.005095</td>\n",
              "    </tr>\n",
              "    <tr>\n",
              "      <th>2019-01-07</th>\n",
              "      <td>0.027998</td>\n",
              "      <td>-0.017487</td>\n",
              "      <td>0.001062</td>\n",
              "      <td>0.002496</td>\n",
              "      <td>0.015617</td>\n",
              "      <td>0.003556</td>\n",
              "      <td>-0.006374</td>\n",
              "      <td>0.012041</td>\n",
              "      <td>0.004335</td>\n",
              "    </tr>\n",
              "    <tr>\n",
              "      <th>...</th>\n",
              "      <td>...</td>\n",
              "      <td>...</td>\n",
              "      <td>...</td>\n",
              "      <td>...</td>\n",
              "      <td>...</td>\n",
              "      <td>...</td>\n",
              "      <td>...</td>\n",
              "      <td>...</td>\n",
              "      <td>...</td>\n",
              "    </tr>\n",
              "    <tr>\n",
              "      <th>2021-07-30</th>\n",
              "      <td>-0.011499</td>\n",
              "      <td>0.008877</td>\n",
              "      <td>0.005838</td>\n",
              "      <td>0.000086</td>\n",
              "      <td>-0.004090</td>\n",
              "      <td>-0.004866</td>\n",
              "      <td>0.095859</td>\n",
              "      <td>-0.009145</td>\n",
              "      <td>-0.001259</td>\n",
              "    </tr>\n",
              "    <tr>\n",
              "      <th>2021-08-02</th>\n",
              "      <td>0.016714</td>\n",
              "      <td>-0.002316</td>\n",
              "      <td>-0.002141</td>\n",
              "      <td>-0.000729</td>\n",
              "      <td>0.013018</td>\n",
              "      <td>0.010916</td>\n",
              "      <td>0.000581</td>\n",
              "      <td>0.015786</td>\n",
              "      <td>0.006894</td>\n",
              "    </tr>\n",
              "    <tr>\n",
              "      <th>2021-08-03</th>\n",
              "      <td>0.024051</td>\n",
              "      <td>0.004118</td>\n",
              "      <td>0.008190</td>\n",
              "      <td>0.023266</td>\n",
              "      <td>0.013849</td>\n",
              "      <td>0.012229</td>\n",
              "      <td>0.026000</td>\n",
              "      <td>0.020379</td>\n",
              "      <td>0.016348</td>\n",
              "    </tr>\n",
              "    <tr>\n",
              "      <th>2021-08-04</th>\n",
              "      <td>0.020241</td>\n",
              "      <td>0.010556</td>\n",
              "      <td>0.020971</td>\n",
              "      <td>-0.004324</td>\n",
              "      <td>-0.002997</td>\n",
              "      <td>-0.005736</td>\n",
              "      <td>-0.011642</td>\n",
              "      <td>-0.003263</td>\n",
              "      <td>0.010101</td>\n",
              "    </tr>\n",
              "    <tr>\n",
              "      <th>2021-08-05</th>\n",
              "      <td>-0.005922</td>\n",
              "      <td>0.002512</td>\n",
              "      <td>0.014100</td>\n",
              "      <td>-0.007665</td>\n",
              "      <td>0.003450</td>\n",
              "      <td>0.030917</td>\n",
              "      <td>0.000255</td>\n",
              "      <td>0.003568</td>\n",
              "      <td>0.002261</td>\n",
              "    </tr>\n",
              "  </tbody>\n",
              "</table>\n",
              "<p>639 rows × 9 columns</p>\n",
              "</div>"
            ],
            "text/plain": [
              "            AXISBANK.BO  DRREDDY.BO  ...    TCS.BO    ^BSESN\n",
              "Date                                 ...                    \n",
              "2019-01-01          NaN         NaN  ...       NaN       NaN\n",
              "2019-01-02    -0.013800   -0.003914  ...  0.010875       NaN\n",
              "2019-01-03    -0.017851   -0.009679  ... -0.013981 -0.010582\n",
              "2019-01-04     0.019385    0.010083  ... -0.011935  0.005095\n",
              "2019-01-07     0.027998   -0.017487  ...  0.012041  0.004335\n",
              "...                 ...         ...  ...       ...       ...\n",
              "2021-07-30    -0.011499    0.008877  ... -0.009145 -0.001259\n",
              "2021-08-02     0.016714   -0.002316  ...  0.015786  0.006894\n",
              "2021-08-03     0.024051    0.004118  ...  0.020379  0.016348\n",
              "2021-08-04     0.020241    0.010556  ... -0.003263  0.010101\n",
              "2021-08-05    -0.005922    0.002512  ...  0.003568  0.002261\n",
              "\n",
              "[639 rows x 9 columns]"
            ]
          },
          "metadata": {},
          "execution_count": 6
        }
      ]
    },
    {
      "cell_type": "code",
      "metadata": {
        "id": "x7yiUzT_lkRg",
        "colab": {
          "base_uri": "https://localhost:8080/"
        },
        "outputId": "4545c4ac-f7af-4fb9-8a36-36c162670f9c"
      },
      "source": [
        "\n",
        "var = log_returns['^BSESN'].var()\n",
        "var"
      ],
      "execution_count": null,
      "outputs": [
        {
          "output_type": "execute_result",
          "data": {
            "text/plain": [
              "0.00022183341948203952"
            ]
          },
          "metadata": {},
          "execution_count": 8
        }
      ]
    },
    {
      "cell_type": "code",
      "metadata": {
        "id": "9bXgwJfGlmMm",
        "colab": {
          "base_uri": "https://localhost:8080/"
        },
        "outputId": "2f39da5f-3ac6-461c-f244-1131ee48e1c7"
      },
      "source": [
        "beta = cov.loc['TCS.BO', '^BSESN']/var\n",
        "beta"
      ],
      "execution_count": null,
      "outputs": [
        {
          "output_type": "execute_result",
          "data": {
            "text/plain": [
              "0.6280596712082779"
            ]
          },
          "metadata": {},
          "execution_count": 9
        }
      ]
    },
    {
      "cell_type": "code",
      "metadata": {
        "id": "I1u_CkxVlpo3",
        "colab": {
          "base_uri": "https://localhost:8080/"
        },
        "outputId": "b0bfed37-cf0a-4fd4-d214-e6042057f865"
      },
      "source": [
        "risk_free_return = 0.0628\n",
        "market_return = .1575\n",
        "\n",
        "expected_return = risk_free_return + beta*(market_return - risk_free_return)\n",
        "expected_return"
      ],
      "execution_count": null,
      "outputs": [
        {
          "output_type": "execute_result",
          "data": {
            "text/plain": [
              "0.12227725086342392"
            ]
          },
          "metadata": {},
          "execution_count": 10
        }
      ]
    },
    {
      "cell_type": "code",
      "metadata": {
        "id": "weguv5eElw6Y",
        "colab": {
          "base_uri": "https://localhost:8080/"
        },
        "outputId": "46fe6c7a-8a5d-4b8e-cd5c-083f52a46db2"
      },
      "source": [
        "beta = cov.loc['^BSESN']/var\n",
        "beta"
      ],
      "execution_count": null,
      "outputs": [
        {
          "output_type": "execute_result",
          "data": {
            "text/plain": [
              "AXISBANK.BO      1.505884\n",
              "DRREDDY.BO       0.375234\n",
              "HDFCBANK.BO      1.088149\n",
              "HINDUNILVR.BO    0.556352\n",
              "INFY.BO          0.749001\n",
              "ITC.BO           0.670321\n",
              "SUNPHARMA.BO     0.602393\n",
              "TCS.BO           0.628060\n",
              "^BSESN           1.000000\n",
              "Name: ^BSESN, dtype: float64"
            ]
          },
          "metadata": {},
          "execution_count": 12
        }
      ]
    },
    {
      "cell_type": "code",
      "metadata": {
        "id": "iwkuuZ6tl01S",
        "colab": {
          "base_uri": "https://localhost:8080/"
        },
        "outputId": "70a8e1da-1aff-4bf3-f685-06b24900a6d0"
      },
      "source": [
        "expected_return = risk_free_return + beta*(market_return - risk_free_return)\n",
        "expected_return"
      ],
      "execution_count": null,
      "outputs": [
        {
          "output_type": "execute_result",
          "data": {
            "text/plain": [
              "AXISBANK.BO      0.205407\n",
              "DRREDDY.BO       0.098335\n",
              "HDFCBANK.BO      0.165848\n",
              "HINDUNILVR.BO    0.115487\n",
              "INFY.BO          0.133730\n",
              "ITC.BO           0.126279\n",
              "SUNPHARMA.BO     0.119847\n",
              "TCS.BO           0.122277\n",
              "^BSESN           0.157500\n",
              "Name: ^BSESN, dtype: float64"
            ]
          },
          "metadata": {},
          "execution_count": 13
        }
      ]
    }
  ]
}
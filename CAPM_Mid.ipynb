{
  "nbformat": 4,
  "nbformat_minor": 0,
  "metadata": {
    "colab": {
      "provenance": []
    },
    "kernelspec": {
      "name": "python3",
      "display_name": "Python 3"
    },
    "language_info": {
      "name": "python"
    }
  },
  "cells": [
    {
      "cell_type": "code",
      "metadata": {
        "id": "aavjX90ehbvY"
      },
      "source": [
        "import numpy as np\n",
        "import pandas_datareader as pdr\n",
        "import datetime as dt\n",
        "import pandas as pd"
      ],
      "execution_count": null,
      "outputs": []
    },
    {
      "cell_type": "code",
      "metadata": {
        "colab": {
          "base_uri": "https://localhost:8080/"
        },
        "id": "c-QHPm08hmMf",
        "outputId": "f78cbf56-a914-42d0-a148-793651a1c274"
      },
      "source": [
        "!pip install yfinance\n",
        "!pip install matplotlib\n",
        "# Import yfinance and matplotlib\n",
        "import yfinance as yf  "
      ],
      "execution_count": null,
      "outputs": [
        {
          "output_type": "stream",
          "name": "stdout",
          "text": [
            "Collecting yfinance\n",
            "  Downloading yfinance-0.1.63.tar.gz (26 kB)\n",
            "Requirement already satisfied: pandas>=0.24 in /usr/local/lib/python3.7/dist-packages (from yfinance) (1.1.5)\n",
            "Requirement already satisfied: numpy>=1.15 in /usr/local/lib/python3.7/dist-packages (from yfinance) (1.19.5)\n",
            "Requirement already satisfied: requests>=2.20 in /usr/local/lib/python3.7/dist-packages (from yfinance) (2.23.0)\n",
            "Requirement already satisfied: multitasking>=0.0.7 in /usr/local/lib/python3.7/dist-packages (from yfinance) (0.0.9)\n",
            "Collecting lxml>=4.5.1\n",
            "  Downloading lxml-4.6.3-cp37-cp37m-manylinux2014_x86_64.whl (6.3 MB)\n",
            "\u001b[K     |████████████████████████████████| 6.3 MB 4.1 MB/s \n",
            "\u001b[?25hRequirement already satisfied: pytz>=2017.2 in /usr/local/lib/python3.7/dist-packages (from pandas>=0.24->yfinance) (2018.9)\n",
            "Requirement already satisfied: python-dateutil>=2.7.3 in /usr/local/lib/python3.7/dist-packages (from pandas>=0.24->yfinance) (2.8.2)\n",
            "Requirement already satisfied: six>=1.5 in /usr/local/lib/python3.7/dist-packages (from python-dateutil>=2.7.3->pandas>=0.24->yfinance) (1.15.0)\n",
            "Requirement already satisfied: chardet<4,>=3.0.2 in /usr/local/lib/python3.7/dist-packages (from requests>=2.20->yfinance) (3.0.4)\n",
            "Requirement already satisfied: idna<3,>=2.5 in /usr/local/lib/python3.7/dist-packages (from requests>=2.20->yfinance) (2.10)\n",
            "Requirement already satisfied: urllib3!=1.25.0,!=1.25.1,<1.26,>=1.21.1 in /usr/local/lib/python3.7/dist-packages (from requests>=2.20->yfinance) (1.24.3)\n",
            "Requirement already satisfied: certifi>=2017.4.17 in /usr/local/lib/python3.7/dist-packages (from requests>=2.20->yfinance) (2021.5.30)\n",
            "Building wheels for collected packages: yfinance\n",
            "  Building wheel for yfinance (setup.py) ... \u001b[?25l\u001b[?25hdone\n",
            "  Created wheel for yfinance: filename=yfinance-0.1.63-py2.py3-none-any.whl size=23918 sha256=98c510d3359c6b62dfa9712ba35c44326e9565bcaa4892b759dd0c0297f7851f\n",
            "  Stored in directory: /root/.cache/pip/wheels/fe/87/8b/7ec24486e001d3926537f5f7801f57a74d181be25b11157983\n",
            "Successfully built yfinance\n",
            "Installing collected packages: lxml, yfinance\n",
            "  Attempting uninstall: lxml\n",
            "    Found existing installation: lxml 4.2.6\n",
            "    Uninstalling lxml-4.2.6:\n",
            "      Successfully uninstalled lxml-4.2.6\n",
            "Successfully installed lxml-4.6.3 yfinance-0.1.63\n",
            "Requirement already satisfied: matplotlib in /usr/local/lib/python3.7/dist-packages (3.2.2)\n",
            "Requirement already satisfied: cycler>=0.10 in /usr/local/lib/python3.7/dist-packages (from matplotlib) (0.10.0)\n",
            "Requirement already satisfied: python-dateutil>=2.1 in /usr/local/lib/python3.7/dist-packages (from matplotlib) (2.8.2)\n",
            "Requirement already satisfied: kiwisolver>=1.0.1 in /usr/local/lib/python3.7/dist-packages (from matplotlib) (1.3.2)\n",
            "Requirement already satisfied: pyparsing!=2.0.4,!=2.1.2,!=2.1.6,>=2.0.1 in /usr/local/lib/python3.7/dist-packages (from matplotlib) (2.4.7)\n",
            "Requirement already satisfied: numpy>=1.11 in /usr/local/lib/python3.7/dist-packages (from matplotlib) (1.19.5)\n",
            "Requirement already satisfied: six in /usr/local/lib/python3.7/dist-packages (from cycler>=0.10->matplotlib) (1.15.0)\n"
          ]
        }
      ]
    },
    {
      "cell_type": "code",
      "metadata": {
        "colab": {
          "base_uri": "https://localhost:8080/"
        },
        "id": "nhLbuJXghukw",
        "outputId": "5eae5f12-0369-4e5c-c458-42ec8401a24f"
      },
      "source": [
        "!pip install fix_yahoo_finance\n"
      ],
      "execution_count": null,
      "outputs": [
        {
          "output_type": "stream",
          "name": "stdout",
          "text": [
            "Requirement already satisfied: fix_yahoo_finance in /usr/local/lib/python3.7/dist-packages (0.0.22)\n",
            "Requirement already satisfied: pandas in /usr/local/lib/python3.7/dist-packages (from fix_yahoo_finance) (1.1.5)\n",
            "Requirement already satisfied: requests in /usr/local/lib/python3.7/dist-packages (from fix_yahoo_finance) (2.23.0)\n",
            "Requirement already satisfied: multitasking in /usr/local/lib/python3.7/dist-packages (from fix_yahoo_finance) (0.0.9)\n",
            "Requirement already satisfied: numpy in /usr/local/lib/python3.7/dist-packages (from fix_yahoo_finance) (1.19.5)\n",
            "Requirement already satisfied: pytz>=2017.2 in /usr/local/lib/python3.7/dist-packages (from pandas->fix_yahoo_finance) (2018.9)\n",
            "Requirement already satisfied: python-dateutil>=2.7.3 in /usr/local/lib/python3.7/dist-packages (from pandas->fix_yahoo_finance) (2.8.2)\n",
            "Requirement already satisfied: six>=1.5 in /usr/local/lib/python3.7/dist-packages (from python-dateutil>=2.7.3->pandas->fix_yahoo_finance) (1.15.0)\n",
            "Requirement already satisfied: idna<3,>=2.5 in /usr/local/lib/python3.7/dist-packages (from requests->fix_yahoo_finance) (2.10)\n",
            "Requirement already satisfied: urllib3!=1.25.0,!=1.25.1,<1.26,>=1.21.1 in /usr/local/lib/python3.7/dist-packages (from requests->fix_yahoo_finance) (1.24.3)\n",
            "Requirement already satisfied: certifi>=2017.4.17 in /usr/local/lib/python3.7/dist-packages (from requests->fix_yahoo_finance) (2021.5.30)\n",
            "Requirement already satisfied: chardet<4,>=3.0.2 in /usr/local/lib/python3.7/dist-packages (from requests->fix_yahoo_finance) (3.0.4)\n"
          ]
        }
      ]
    },
    {
      "cell_type": "code",
      "metadata": {
        "colab": {
          "base_uri": "https://localhost:8080/"
        },
        "id": "mkneUm02hxo6",
        "outputId": "7ec26530-c838-4ca6-c1c1-942ed3544701"
      },
      "source": [
        "tickers = ['NAUKRI.BO', 'LTI.BO', 'BIOCON.BO', 'GLENMARK.BO', 'COLPAL.BO', 'PGHH.BO', 'BANKINDIA.BO', 'IDBI.BO','^BSESN']\n",
        "start = dt.datetime(2019, 1, 1)\n",
        "end = dt.datetime(2021, 8, 6)\n",
        "\n",
        "data = yf.download(tickers,'2019-01-01','2021-08-06')\n",
        "#data = pdr.get_data_yahoo(tickers, start, end, interval=\"m\")"
      ],
      "execution_count": null,
      "outputs": [
        {
          "output_type": "stream",
          "name": "stdout",
          "text": [
            "[*********************100%***********************]  9 of 9 completed\n"
          ]
        }
      ]
    },
    {
      "cell_type": "code",
      "metadata": {
        "id": "ddf1J9v2h0cm"
      },
      "source": [
        "data = data['Adj Close']"
      ],
      "execution_count": null,
      "outputs": []
    },
    {
      "cell_type": "code",
      "metadata": {
        "colab": {
          "base_uri": "https://localhost:8080/",
          "height": 447
        },
        "id": "B8MYWsUZh3WV",
        "outputId": "9702917e-d9c5-4668-bdeb-6446eac203d7"
      },
      "source": [
        "log_returns = np.log(data/data.shift())\n",
        "log_returns"
      ],
      "execution_count": null,
      "outputs": [
        {
          "output_type": "execute_result",
          "data": {
            "text/html": [
              "<div>\n",
              "<style scoped>\n",
              "    .dataframe tbody tr th:only-of-type {\n",
              "        vertical-align: middle;\n",
              "    }\n",
              "\n",
              "    .dataframe tbody tr th {\n",
              "        vertical-align: top;\n",
              "    }\n",
              "\n",
              "    .dataframe thead th {\n",
              "        text-align: right;\n",
              "    }\n",
              "</style>\n",
              "<table border=\"1\" class=\"dataframe\">\n",
              "  <thead>\n",
              "    <tr style=\"text-align: right;\">\n",
              "      <th></th>\n",
              "      <th>BANKINDIA.BO</th>\n",
              "      <th>BIOCON.BO</th>\n",
              "      <th>COLPAL.BO</th>\n",
              "      <th>GLENMARK.BO</th>\n",
              "      <th>IDBI.BO</th>\n",
              "      <th>LTI.BO</th>\n",
              "      <th>NAUKRI.BO</th>\n",
              "      <th>PGHH.BO</th>\n",
              "      <th>^BSESN</th>\n",
              "    </tr>\n",
              "    <tr>\n",
              "      <th>Date</th>\n",
              "      <th></th>\n",
              "      <th></th>\n",
              "      <th></th>\n",
              "      <th></th>\n",
              "      <th></th>\n",
              "      <th></th>\n",
              "      <th></th>\n",
              "      <th></th>\n",
              "      <th></th>\n",
              "    </tr>\n",
              "  </thead>\n",
              "  <tbody>\n",
              "    <tr>\n",
              "      <th>2019-01-01</th>\n",
              "      <td>NaN</td>\n",
              "      <td>NaN</td>\n",
              "      <td>NaN</td>\n",
              "      <td>NaN</td>\n",
              "      <td>NaN</td>\n",
              "      <td>NaN</td>\n",
              "      <td>NaN</td>\n",
              "      <td>NaN</td>\n",
              "      <td>NaN</td>\n",
              "    </tr>\n",
              "    <tr>\n",
              "      <th>2019-01-02</th>\n",
              "      <td>-0.015159</td>\n",
              "      <td>-0.004246</td>\n",
              "      <td>-0.016395</td>\n",
              "      <td>-0.015286</td>\n",
              "      <td>-0.000815</td>\n",
              "      <td>0.003685</td>\n",
              "      <td>-0.003756</td>\n",
              "      <td>-0.002323</td>\n",
              "      <td>NaN</td>\n",
              "    </tr>\n",
              "    <tr>\n",
              "      <th>2019-01-03</th>\n",
              "      <td>0.009501</td>\n",
              "      <td>-0.016760</td>\n",
              "      <td>0.009087</td>\n",
              "      <td>-0.028798</td>\n",
              "      <td>0.000000</td>\n",
              "      <td>0.004911</td>\n",
              "      <td>0.041964</td>\n",
              "      <td>-0.001354</td>\n",
              "      <td>-0.010582</td>\n",
              "    </tr>\n",
              "    <tr>\n",
              "      <th>2019-01-04</th>\n",
              "      <td>0.027974</td>\n",
              "      <td>0.009669</td>\n",
              "      <td>-0.002893</td>\n",
              "      <td>0.002262</td>\n",
              "      <td>0.000815</td>\n",
              "      <td>-0.022263</td>\n",
              "      <td>0.037800</td>\n",
              "      <td>-0.005826</td>\n",
              "      <td>0.005095</td>\n",
              "    </tr>\n",
              "    <tr>\n",
              "      <th>2019-01-07</th>\n",
              "      <td>-0.022786</td>\n",
              "      <td>0.002504</td>\n",
              "      <td>-0.005466</td>\n",
              "      <td>-0.014873</td>\n",
              "      <td>-0.001630</td>\n",
              "      <td>0.005642</td>\n",
              "      <td>0.041713</td>\n",
              "      <td>0.000434</td>\n",
              "      <td>0.004335</td>\n",
              "    </tr>\n",
              "    <tr>\n",
              "      <th>...</th>\n",
              "      <td>...</td>\n",
              "      <td>...</td>\n",
              "      <td>...</td>\n",
              "      <td>...</td>\n",
              "      <td>...</td>\n",
              "      <td>...</td>\n",
              "      <td>...</td>\n",
              "      <td>...</td>\n",
              "      <td>...</td>\n",
              "    </tr>\n",
              "    <tr>\n",
              "      <th>2021-07-30</th>\n",
              "      <td>0.039731</td>\n",
              "      <td>0.011317</td>\n",
              "      <td>-0.002842</td>\n",
              "      <td>0.026686</td>\n",
              "      <td>0.003960</td>\n",
              "      <td>0.011712</td>\n",
              "      <td>0.001804</td>\n",
              "      <td>-0.005994</td>\n",
              "      <td>-0.001259</td>\n",
              "    </tr>\n",
              "    <tr>\n",
              "      <th>2021-08-02</th>\n",
              "      <td>-0.003364</td>\n",
              "      <td>0.008886</td>\n",
              "      <td>-0.015552</td>\n",
              "      <td>-0.002884</td>\n",
              "      <td>-0.003960</td>\n",
              "      <td>0.003378</td>\n",
              "      <td>0.015522</td>\n",
              "      <td>0.001838</td>\n",
              "      <td>0.006894</td>\n",
              "    </tr>\n",
              "    <tr>\n",
              "      <th>2021-08-03</th>\n",
              "      <td>0.002020</td>\n",
              "      <td>-0.000385</td>\n",
              "      <td>-0.002656</td>\n",
              "      <td>-0.002727</td>\n",
              "      <td>0.002642</td>\n",
              "      <td>0.004150</td>\n",
              "      <td>0.011803</td>\n",
              "      <td>0.002118</td>\n",
              "      <td>0.016348</td>\n",
              "    </tr>\n",
              "    <tr>\n",
              "      <th>2021-08-04</th>\n",
              "      <td>-0.023130</td>\n",
              "      <td>-0.011091</td>\n",
              "      <td>-0.003892</td>\n",
              "      <td>-0.013497</td>\n",
              "      <td>-0.005291</td>\n",
              "      <td>-0.005534</td>\n",
              "      <td>-0.000420</td>\n",
              "      <td>-0.002857</td>\n",
              "      <td>0.010101</td>\n",
              "    </tr>\n",
              "    <tr>\n",
              "      <th>2021-08-05</th>\n",
              "      <td>-0.025794</td>\n",
              "      <td>-0.003898</td>\n",
              "      <td>-0.007587</td>\n",
              "      <td>0.004686</td>\n",
              "      <td>-0.013351</td>\n",
              "      <td>0.002819</td>\n",
              "      <td>-0.001662</td>\n",
              "      <td>-0.002226</td>\n",
              "      <td>0.002261</td>\n",
              "    </tr>\n",
              "  </tbody>\n",
              "</table>\n",
              "<p>639 rows × 9 columns</p>\n",
              "</div>"
            ],
            "text/plain": [
              "            BANKINDIA.BO  BIOCON.BO  COLPAL.BO  ...  NAUKRI.BO   PGHH.BO    ^BSESN\n",
              "Date                                            ...                               \n",
              "2019-01-01           NaN        NaN        NaN  ...        NaN       NaN       NaN\n",
              "2019-01-02     -0.015159  -0.004246  -0.016395  ...  -0.003756 -0.002323       NaN\n",
              "2019-01-03      0.009501  -0.016760   0.009087  ...   0.041964 -0.001354 -0.010582\n",
              "2019-01-04      0.027974   0.009669  -0.002893  ...   0.037800 -0.005826  0.005095\n",
              "2019-01-07     -0.022786   0.002504  -0.005466  ...   0.041713  0.000434  0.004335\n",
              "...                  ...        ...        ...  ...        ...       ...       ...\n",
              "2021-07-30      0.039731   0.011317  -0.002842  ...   0.001804 -0.005994 -0.001259\n",
              "2021-08-02     -0.003364   0.008886  -0.015552  ...   0.015522  0.001838  0.006894\n",
              "2021-08-03      0.002020  -0.000385  -0.002656  ...   0.011803  0.002118  0.016348\n",
              "2021-08-04     -0.023130  -0.011091  -0.003892  ...  -0.000420 -0.002857  0.010101\n",
              "2021-08-05     -0.025794  -0.003898  -0.007587  ...  -0.001662 -0.002226  0.002261\n",
              "\n",
              "[639 rows x 9 columns]"
            ]
          },
          "metadata": {},
          "execution_count": 6
        }
      ]
    },
    {
      "cell_type": "code",
      "metadata": {
        "id": "vRUufOeLh32L"
      },
      "source": [
        "cov = log_returns.cov()"
      ],
      "execution_count": null,
      "outputs": []
    },
    {
      "cell_type": "code",
      "metadata": {
        "colab": {
          "base_uri": "https://localhost:8080/"
        },
        "id": "ijV3RKOHh9gq",
        "outputId": "780264b8-3b6d-4a2a-e517-c529c8df96ee"
      },
      "source": [
        "#BSE = ['^BSESN']\n",
        "#bse = yf.download(BSE,'2019-01-01','2021-08-06')\n",
        "\n",
        "#var = log_returns.var()\n",
        "var = log_returns['^BSESN'].var()\n",
        "var"
      ],
      "execution_count": null,
      "outputs": [
        {
          "output_type": "execute_result",
          "data": {
            "text/plain": [
              "0.00022183341948203952"
            ]
          },
          "metadata": {},
          "execution_count": 8
        }
      ]
    },
    {
      "cell_type": "code",
      "metadata": {
        "colab": {
          "base_uri": "https://localhost:8080/"
        },
        "id": "Zy396EMFiAos",
        "outputId": "112d9637-ce06-4ccd-ffe5-6819e078b325"
      },
      "source": [
        "beta = cov.loc['LTI.BO', '^BSESN']/var\n",
        "beta"
      ],
      "execution_count": null,
      "outputs": [
        {
          "output_type": "execute_result",
          "data": {
            "text/plain": [
              "0.6251115715616108"
            ]
          },
          "metadata": {},
          "execution_count": 9
        }
      ]
    },
    {
      "cell_type": "code",
      "metadata": {
        "colab": {
          "base_uri": "https://localhost:8080/"
        },
        "id": "NQM3t8bIiBVG",
        "outputId": "7afa1fae-f9a8-4907-9731-5be02343a635"
      },
      "source": [
        "risk_free_return = 0.0628\n",
        "market_return = .1575\n",
        "\n",
        "expected_return = risk_free_return + beta*(market_return - risk_free_return)\n",
        "expected_return"
      ],
      "execution_count": null,
      "outputs": [
        {
          "output_type": "execute_result",
          "data": {
            "text/plain": [
              "0.12199806582688455"
            ]
          },
          "metadata": {},
          "execution_count": 10
        }
      ]
    },
    {
      "cell_type": "code",
      "metadata": {
        "colab": {
          "base_uri": "https://localhost:8080/"
        },
        "id": "8lm4LXMuiDdA",
        "outputId": "90042720-8d13-46d1-ed64-0089b8b2fe2a"
      },
      "source": [
        "beta*market_return\n"
      ],
      "execution_count": null,
      "outputs": [
        {
          "output_type": "execute_result",
          "data": {
            "text/plain": [
              "0.0984550725209537"
            ]
          },
          "metadata": {},
          "execution_count": 11
        }
      ]
    },
    {
      "cell_type": "code",
      "metadata": {
        "colab": {
          "base_uri": "https://localhost:8080/"
        },
        "id": "b4Tqdygn9IYN",
        "outputId": "c46c401e-e877-4ce8-aec7-e5037075cc34"
      },
      "source": [
        "beta = cov.loc['^BSESN']/var\n",
        "beta"
      ],
      "execution_count": null,
      "outputs": [
        {
          "output_type": "execute_result",
          "data": {
            "text/plain": [
              "BANKINDIA.BO    0.803380\n",
              "BIOCON.BO       0.580031\n",
              "COLPAL.BO       0.423418\n",
              "GLENMARK.BO     0.700609\n",
              "IDBI.BO         0.980288\n",
              "LTI.BO          0.625112\n",
              "NAUKRI.BO       0.739856\n",
              "PGHH.BO         0.269014\n",
              "^BSESN          1.000000\n",
              "Name: ^BSESN, dtype: float64"
            ]
          },
          "metadata": {},
          "execution_count": 12
        }
      ]
    },
    {
      "cell_type": "code",
      "metadata": {
        "colab": {
          "base_uri": "https://localhost:8080/"
        },
        "id": "EhVQhhvmiJAz",
        "outputId": "6e5fb042-993e-4dda-add3-dd19d466dc6e"
      },
      "source": [
        "market_return = risk_free_return + beta*(market_return - risk_free_return)\n",
        "market_return"
      ],
      "execution_count": null,
      "outputs": [
        {
          "output_type": "execute_result",
          "data": {
            "text/plain": [
              "BANKINDIA.BO    0.138880\n",
              "BIOCON.BO       0.117729\n",
              "COLPAL.BO       0.102898\n",
              "GLENMARK.BO     0.129148\n",
              "IDBI.BO         0.155633\n",
              "LTI.BO          0.121998\n",
              "NAUKRI.BO       0.132864\n",
              "PGHH.BO         0.088276\n",
              "^BSESN          0.157500\n",
              "Name: ^BSESN, dtype: float64"
            ]
          },
          "metadata": {},
          "execution_count": 13
        }
      ]
    }
  ]
}